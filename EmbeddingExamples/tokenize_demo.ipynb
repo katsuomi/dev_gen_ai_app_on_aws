{
 "cells": [
  {
   "cell_type": "markdown",
   "metadata": {},
   "source": [
    "## Janome を使って、文章をトークン化してみよう\n",
    "[Janome](https://mocobeta.github.io/janome/) は Python で利用可能な形態素解析器のライブラリです。\n",
    "インストールして使ってみましょう。"
   ]
  },
  {
   "cell_type": "code",
   "execution_count": null,
   "metadata": {
    "vscode": {
     "languageId": "plaintext"
    }
   },
   "outputs": [],
   "source": [
    "pip install janome"
   ]
  },
  {
   "cell_type": "code",
   "execution_count": null,
   "metadata": {
    "vscode": {
     "languageId": "plaintext"
    }
   },
   "outputs": [],
   "source": [
    "# 文字列を送信すると、トークンに変換します\n",
    "# プログラムの中身を覚える必要はありません\n",
    "from janome.tokenizer import Tokenizer\n",
    "import ipywidgets as widgets\n",
    "from IPython.display import display\n",
    "\n",
    "def tokenize_and_display(input_text):\n",
    "  tokenizer = Tokenizer()\n",
    "  tokens = [token.surface for token in tokenizer.tokenize(input_text)]\n",
    "  with output:\n",
    "    print(f\"{input_text} -> {tokens}\")\n",
    "\n",
    "input_box = widgets.Text(description=\"入力:\")\n",
    "send_button = widgets.Button(description=\"送信\")\n",
    "quit_button = widgets.Button(description=\"終了\")\n",
    "output = widgets.Output()\n",
    "\n",
    "def on_send_clicked(b):\n",
    "  tokenize_and_display(input_box.value)\n",
    "\n",
    "def on_quit_clicked(b):\n",
    "  with output:\n",
    "    print(\"入力セッションを終了しました。\")\n",
    "  input_box.disabled = True\n",
    "  send_button.disabled = True\n",
    "  quit_button.disabled = True\n",
    "\n",
    "send_button.on_click(on_send_clicked)\n",
    "quit_button.on_click(on_quit_clicked)\n",
    "\n",
    "display(input_box, send_button, quit_button, output)"
   ]
  }
 ],
 "metadata": {
  "language_info": {
   "name": "python"
  }
 },
 "nbformat": 4,
 "nbformat_minor": 2
}
